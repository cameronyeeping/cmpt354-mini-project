{
 "cells": [
  {
   "cell_type": "code",
   "execution_count": 1,
   "metadata": {},
   "outputs": [],
   "source": [
    "%load_ext sql"
   ]
  },
  {
   "cell_type": "code",
   "execution_count": 2,
   "metadata": {},
   "outputs": [
    {
     "data": {
      "text/plain": [
       "'Connected: @council.db'"
      ]
     },
     "execution_count": 2,
     "metadata": {},
     "output_type": "execute_result"
    }
   ],
   "source": [
    "%sql sqlite:///council.db"
   ]
  },
  {
   "cell_type": "code",
   "execution_count": 3,
   "metadata": {},
   "outputs": [
    {
     "name": "stdout",
     "output_type": "stream",
     "text": [
      " * sqlite:///council.db\n",
      "Done.\n"
     ]
    },
    {
     "data": {
      "text/html": [
       "<table>\n",
       "    <thead>\n",
       "        <tr>\n",
       "            <th>cid</th>\n",
       "            <th>name</th>\n",
       "            <th>type</th>\n",
       "            <th>notnull</th>\n",
       "            <th>dflt_value</th>\n",
       "            <th>pk</th>\n",
       "        </tr>\n",
       "    </thead>\n",
       "    <tbody>\n",
       "        <tr>\n",
       "            <td>0</td>\n",
       "            <td>call_id</td>\n",
       "            <td>INTEGER</td>\n",
       "            <td>0</td>\n",
       "            <td>None</td>\n",
       "            <td>1</td>\n",
       "        </tr>\n",
       "        <tr>\n",
       "            <td>1</td>\n",
       "            <td>title</td>\n",
       "            <td>char(15)</td>\n",
       "            <td>0</td>\n",
       "            <td>None</td>\n",
       "            <td>0</td>\n",
       "        </tr>\n",
       "        <tr>\n",
       "            <td>2</td>\n",
       "            <td>app_deadline</td>\n",
       "            <td>date</td>\n",
       "            <td>0</td>\n",
       "            <td>None</td>\n",
       "            <td>0</td>\n",
       "        </tr>\n",
       "        <tr>\n",
       "            <td>3</td>\n",
       "            <td>description</td>\n",
       "            <td>char(15)</td>\n",
       "            <td>0</td>\n",
       "            <td>None</td>\n",
       "            <td>0</td>\n",
       "        </tr>\n",
       "        <tr>\n",
       "            <td>4</td>\n",
       "            <td>area</td>\n",
       "            <td>char(15)</td>\n",
       "            <td>0</td>\n",
       "            <td>None</td>\n",
       "            <td>0</td>\n",
       "        </tr>\n",
       "        <tr>\n",
       "            <td>5</td>\n",
       "            <td>status</td>\n",
       "            <td>char(15)</td>\n",
       "            <td>0</td>\n",
       "            <td>None</td>\n",
       "            <td>0</td>\n",
       "        </tr>\n",
       "    </tbody>\n",
       "</table>"
      ],
      "text/plain": [
       "[(0, 'call_id', 'INTEGER', 0, None, 1),\n",
       " (1, 'title', 'char(15)', 0, None, 0),\n",
       " (2, 'app_deadline', 'date', 0, None, 0),\n",
       " (3, 'description', 'char(15)', 0, None, 0),\n",
       " (4, 'area', 'char(15)', 0, None, 0),\n",
       " (5, 'status', 'char(15)', 0, None, 0)]"
      ]
     },
     "execution_count": 3,
     "metadata": {},
     "output_type": "execute_result"
    }
   ],
   "source": [
    "%%sql \n",
    "PRAGMA table_info(CallsForProposals);"
   ]
  },
  {
   "cell_type": "code",
   "execution_count": 5,
   "metadata": {},
   "outputs": [
    {
     "name": "stdout",
     "output_type": "stream",
     "text": [
      " * sqlite:///council.db\n",
      "Done.\n"
     ]
    },
    {
     "data": {
      "text/html": [
       "<table>\n",
       "    <thead>\n",
       "        <tr>\n",
       "            <th>cid</th>\n",
       "            <th>name</th>\n",
       "            <th>type</th>\n",
       "            <th>notnull</th>\n",
       "            <th>dflt_value</th>\n",
       "            <th>pk</th>\n",
       "        </tr>\n",
       "    </thead>\n",
       "    <tbody>\n",
       "        <tr>\n",
       "            <td>0</td>\n",
       "            <td>proposal_id</td>\n",
       "            <td>INTEGER</td>\n",
       "            <td>0</td>\n",
       "            <td>None</td>\n",
       "            <td>1</td>\n",
       "        </tr>\n",
       "        <tr>\n",
       "            <td>1</td>\n",
       "            <td>call_id</td>\n",
       "            <td>INTEGER</td>\n",
       "            <td>0</td>\n",
       "            <td>None</td>\n",
       "            <td>0</td>\n",
       "        </tr>\n",
       "        <tr>\n",
       "            <td>2</td>\n",
       "            <td>amount_requested</td>\n",
       "            <td>DECIMAL(10, 2)</td>\n",
       "            <td>0</td>\n",
       "            <td>None</td>\n",
       "            <td>0</td>\n",
       "        </tr>\n",
       "        <tr>\n",
       "            <td>3</td>\n",
       "            <td>principal_investigator</td>\n",
       "            <td>INTEGER</td>\n",
       "            <td>0</td>\n",
       "            <td>None</td>\n",
       "            <td>0</td>\n",
       "        </tr>\n",
       "        <tr>\n",
       "            <td>4</td>\n",
       "            <td>application_status</td>\n",
       "            <td>CHAR(15)</td>\n",
       "            <td>0</td>\n",
       "            <td>None</td>\n",
       "            <td>0</td>\n",
       "        </tr>\n",
       "        <tr>\n",
       "            <td>5</td>\n",
       "            <td>award_amount</td>\n",
       "            <td>DECIMAL(10, 2)</td>\n",
       "            <td>0</td>\n",
       "            <td>None</td>\n",
       "            <td>0</td>\n",
       "        </tr>\n",
       "        <tr>\n",
       "            <td>6</td>\n",
       "            <td>award_date</td>\n",
       "            <td>DATE</td>\n",
       "            <td>0</td>\n",
       "            <td>None</td>\n",
       "            <td>0</td>\n",
       "        </tr>\n",
       "    </tbody>\n",
       "</table>"
      ],
      "text/plain": [
       "[(0, 'proposal_id', 'INTEGER', 0, None, 1),\n",
       " (1, 'call_id', 'INTEGER', 0, None, 0),\n",
       " (2, 'amount_requested', 'DECIMAL(10, 2)', 0, None, 0),\n",
       " (3, 'principal_investigator', 'INTEGER', 0, None, 0),\n",
       " (4, 'application_status', 'CHAR(15)', 0, None, 0),\n",
       " (5, 'award_amount', 'DECIMAL(10, 2)', 0, None, 0),\n",
       " (6, 'award_date', 'DATE', 0, None, 0)]"
      ]
     },
     "execution_count": 5,
     "metadata": {},
     "output_type": "execute_result"
    }
   ],
   "source": [
    "%%sql \n",
    "PRAGMA table_info(GrantProposals);"
   ]
  },
  {
   "cell_type": "code",
   "execution_count": 42,
   "metadata": {},
   "outputs": [
    {
     "name": "stdout",
     "output_type": "stream",
     "text": [
      " * sqlite:///council.db\n",
      "Done.\n"
     ]
    },
    {
     "data": {
      "text/html": [
       "<table>\n",
       "    <thead>\n",
       "        <tr>\n",
       "            <th>call_id</th>\n",
       "            <th>title</th>\n",
       "        </tr>\n",
       "    </thead>\n",
       "    <tbody>\n",
       "        <tr>\n",
       "            <td>2</td>\n",
       "            <td>Chemistry Example</td>\n",
       "        </tr>\n",
       "        <tr>\n",
       "            <td>5</td>\n",
       "            <td>First Ever Proposal</td>\n",
       "        </tr>\n",
       "        <tr>\n",
       "            <td>9</td>\n",
       "            <td>Economics 103</td>\n",
       "        </tr>\n",
       "    </tbody>\n",
       "</table>"
      ],
      "text/plain": [
       "[(2, 'Chemistry Example'), (5, 'First Ever Proposal'), (9, 'Economics 103')]"
      ]
     },
     "execution_count": 42,
     "metadata": {},
     "output_type": "execute_result"
    }
   ],
   "source": [
    "%%sql\n",
    "SELECT c.call_id, c.title\n",
    "FROM CallsForProposals c\n",
    "JOIN GrantProposals g ON c.call_id = g.call_id\n",
    "WHERE g.amount_requested > 20000 OR (\n",
    "        SELECT COUNT(*) + 1\n",
    "        FROM Collaborators col\n",
    "        WHERE col.proposal_id = g.proposal_id\n",
    "      ) > 10\n",
    "GROUP BY c.call_id, c.title\n",
    "HAVING COUNT(DISTINCT g.proposal_id) > 0;"
   ]
  },
  {
   "cell_type": "code",
   "execution_count": 41,
   "metadata": {},
   "outputs": [
    {
     "name": "stdout",
     "output_type": "stream",
     "text": [
      " * sqlite:///council.db\n",
      "Done.\n"
     ]
    },
    {
     "data": {
      "text/html": [
       "<table>\n",
       "    <thead>\n",
       "        <tr>\n",
       "            <th>r_id</th>\n",
       "        </tr>\n",
       "    </thead>\n",
       "    <tbody>\n",
       "        <tr>\n",
       "            <td>1</td>\n",
       "        </tr>\n",
       "        <tr>\n",
       "            <td>3</td>\n",
       "        </tr>\n",
       "        <tr>\n",
       "            <td>4</td>\n",
       "        </tr>\n",
       "        <tr>\n",
       "            <td>5</td>\n",
       "        </tr>\n",
       "        <tr>\n",
       "            <td>8</td>\n",
       "        </tr>\n",
       "        <tr>\n",
       "            <td>9</td>\n",
       "        </tr>\n",
       "        <tr>\n",
       "            <td>10</td>\n",
       "        </tr>\n",
       "    </tbody>\n",
       "</table>"
      ],
      "text/plain": [
       "[(1,), (3,), (4,), (5,), (8,), (9,), (10,)]"
      ]
     },
     "execution_count": 41,
     "metadata": {},
     "output_type": "execute_result"
    }
   ],
   "source": [
    "%%sql\n",
    "SELECT DISTINCT r_id FROM Reviewers \n",
    "    WHERE \n",
    "        conflicts_of_interest != (\n",
    "            -- Primary Reviewer of the proposal\n",
    "            SELECT principal_investigator FROM GrantProposals\n",
    "            WHERE proposal_id = 5\n",
    "        )\n",
    "        AND conflicts_of_interest NOT IN (\n",
    "            -- All reviewer ids with conflicting interests\n",
    "            SELECT collaborator_id FROM Collaborators\n",
    "            WHERE proposal_id = 5\n",
    "        )\n",
    "        AND r_id IN (\n",
    "            -- All reviewers who have not reacher 3 review assignments\n",
    "            SELECT reviewer_id FROM ReviewerAssignment\n",
    "            GROUP BY reviewer_id\n",
    "            HAVING COUNT(reviewer_id) < 3\n",
    "        )\n",
    "    ORDER BY r_id"
   ]
  },
  {
   "cell_type": "code",
   "execution_count": null,
   "metadata": {},
   "outputs": [],
   "source": [
    "%%sql \n",
    "SELECT DISTINCT "
   ]
  },
  {
   "cell_type": "code",
   "execution_count": 36,
   "metadata": {},
   "outputs": [
    {
     "name": "stdout",
     "output_type": "stream",
     "text": [
      " * sqlite:///council.db\n",
      "Done.\n"
     ]
    },
    {
     "data": {
      "text/html": [
       "<table>\n",
       "    <thead>\n",
       "        <tr>\n",
       "            <th>firstname</th>\n",
       "            <th>lastname</th>\n",
       "        </tr>\n",
       "    </thead>\n",
       "    <tbody>\n",
       "        <tr>\n",
       "            <td>John</td>\n",
       "            <td>Doe</td>\n",
       "        </tr>\n",
       "        <tr>\n",
       "            <td>Michael</td>\n",
       "            <td>Johnson</td>\n",
       "        </tr>\n",
       "        <tr>\n",
       "            <td>Amanda</td>\n",
       "            <td>Lewis</td>\n",
       "        </tr>\n",
       "        <tr>\n",
       "            <td>Emily</td>\n",
       "            <td>Brown</td>\n",
       "        </tr>\n",
       "        <tr>\n",
       "            <td>David</td>\n",
       "            <td>Wilson</td>\n",
       "        </tr>\n",
       "        <tr>\n",
       "            <td>Jessica</td>\n",
       "            <td>Anderson</td>\n",
       "        </tr>\n",
       "        <tr>\n",
       "            <td>Matthew</td>\n",
       "            <td>Garcia</td>\n",
       "        </tr>\n",
       "    </tbody>\n",
       "</table>"
      ],
      "text/plain": [
       "[('John', 'Doe'),\n",
       " ('Michael', 'Johnson'),\n",
       " ('Amanda', 'Lewis'),\n",
       " ('Emily', 'Brown'),\n",
       " ('David', 'Wilson'),\n",
       " ('Jessica', 'Anderson'),\n",
       " ('Matthew', 'Garcia')]"
      ]
     },
     "execution_count": 36,
     "metadata": {},
     "output_type": "execute_result"
    }
   ],
   "source": [
    "%%sql \n",
    "SELECT DISTINCT Re.firstname, Re.lastname FROM Researchers Re\n",
    "JOIN Reviewers Rv ON Re.r_id = Rv.r_id"
   ]
  },
  {
   "cell_type": "code",
   "execution_count": 31,
   "metadata": {},
   "outputs": [
    {
     "name": "stdout",
     "output_type": "stream",
     "text": [
      " * sqlite:///council.db\n",
      "7 rows affected.\n"
     ]
    },
    {
     "data": {
      "text/plain": [
       "[]"
      ]
     },
     "execution_count": 31,
     "metadata": {},
     "output_type": "execute_result"
    }
   ],
   "source": [
    "%%sql \n",
    "UPDATE GrantProposals SET award_date = '03-30-2024'\n",
    "WHERE application_status = 'approved'\n"
   ]
  },
  {
   "cell_type": "code",
   "execution_count": 22,
   "metadata": {},
   "outputs": [
    {
     "name": "stdout",
     "output_type": "stream",
     "text": [
      " * sqlite:///council.db\n",
      "1 rows affected.\n"
     ]
    },
    {
     "data": {
      "text/plain": [
       "[]"
      ]
     },
     "execution_count": 22,
     "metadata": {},
     "output_type": "execute_result"
    }
   ],
   "source": [
    "%%sql\n",
    "INSERT INTO GrantProposals (call_id, amount_requested, principal_investigator, application_status) \n",
    "VALUES (11, 25000, 10, 'pending');"
   ]
  },
  {
   "cell_type": "code",
   "execution_count": 22,
   "metadata": {},
   "outputs": [
    {
     "name": "stdout",
     "output_type": "stream",
     "text": [
      " * sqlite:///council.db\n",
      "Done.\n"
     ]
    },
    {
     "data": {
      "text/html": [
       "<table>\n",
       "    <thead>\n",
       "        <tr>\n",
       "            <th>call_id</th>\n",
       "            <th>title</th>\n",
       "            <th>app_deadline</th>\n",
       "            <th>description</th>\n",
       "            <th>area</th>\n",
       "            <th>status</th>\n",
       "        </tr>\n",
       "    </thead>\n",
       "    <tbody>\n",
       "        <tr>\n",
       "            <td>1</td>\n",
       "            <td>Physics Example</td>\n",
       "            <td>2024-08-21</td>\n",
       "            <td>Description</td>\n",
       "            <td>Physics</td>\n",
       "            <td>completed</td>\n",
       "        </tr>\n",
       "        <tr>\n",
       "            <td>2</td>\n",
       "            <td>Chemistry Example</td>\n",
       "            <td>2024-09-21</td>\n",
       "            <td>Chemistry</td>\n",
       "            <td>Chemistry</td>\n",
       "            <td>completed</td>\n",
       "        </tr>\n",
       "        <tr>\n",
       "            <td>3</td>\n",
       "            <td>Another Proposal</td>\n",
       "            <td>2024-03-21</td>\n",
       "            <td>History!!</td>\n",
       "            <td>History</td>\n",
       "            <td>completed</td>\n",
       "        </tr>\n",
       "        <tr>\n",
       "            <td>4</td>\n",
       "            <td>Yet Another  Proposal</td>\n",
       "            <td>2024-11-11</td>\n",
       "            <td>History!?</td>\n",
       "            <td>History</td>\n",
       "            <td>cancelled</td>\n",
       "        </tr>\n",
       "        <tr>\n",
       "            <td>5</td>\n",
       "            <td>First Ever Proposal</td>\n",
       "            <td>2024-10-24</td>\n",
       "            <td>History??</td>\n",
       "            <td>History</td>\n",
       "            <td>completed</td>\n",
       "        </tr>\n",
       "        <tr>\n",
       "            <td>6</td>\n",
       "            <td>Science Fiction Call</td>\n",
       "            <td>2024-05-24</td>\n",
       "            <td>Sociology Desc</td>\n",
       "            <td>Sociology</td>\n",
       "            <td>completed</td>\n",
       "        </tr>\n",
       "        <tr>\n",
       "            <td>7</td>\n",
       "            <td>Economics 101</td>\n",
       "            <td>1201-01-01</td>\n",
       "            <td>Postponed</td>\n",
       "            <td>Economics</td>\n",
       "            <td>postponed</td>\n",
       "        </tr>\n",
       "        <tr>\n",
       "            <td>8</td>\n",
       "            <td>Economics 102</td>\n",
       "            <td>2024-03-05</td>\n",
       "            <td>Postponed again</td>\n",
       "            <td>Economics</td>\n",
       "            <td>postponed</td>\n",
       "        </tr>\n",
       "        <tr>\n",
       "            <td>9</td>\n",
       "            <td>Economics 103</td>\n",
       "            <td>2019-01-01</td>\n",
       "            <td>We give up :(</td>\n",
       "            <td>Economics</td>\n",
       "            <td>cancelled</td>\n",
       "        </tr>\n",
       "        <tr>\n",
       "            <td>10</td>\n",
       "            <td>Never-Ending Call for Proposals</td>\n",
       "            <td>9999-12-31</td>\n",
       "            <td>The call that never ends!</td>\n",
       "            <td>Chemistry</td>\n",
       "            <td>ongoing</td>\n",
       "        </tr>\n",
       "    </tbody>\n",
       "</table>"
      ],
      "text/plain": [
       "[(1, 'Physics Example', '2024-08-21', 'Description', 'Physics', 'completed'),\n",
       " (2, 'Chemistry Example', '2024-09-21', 'Chemistry', 'Chemistry', 'completed'),\n",
       " (3, 'Another Proposal', '2024-03-21', 'History!!', 'History', 'completed'),\n",
       " (4, 'Yet Another  Proposal', '2024-11-11', 'History!?', 'History', 'cancelled'),\n",
       " (5, 'First Ever Proposal', '2024-10-24', 'History??', 'History', 'completed'),\n",
       " (6, 'Science Fiction Call', '2024-05-24', 'Sociology Desc', 'Sociology', 'completed'),\n",
       " (7, 'Economics 101', '1201-01-01', 'Postponed', 'Economics', 'postponed'),\n",
       " (8, 'Economics 102', '2024-03-05', 'Postponed again', 'Economics', 'postponed'),\n",
       " (9, 'Economics 103', '2019-01-01', 'We give up :(', 'Economics', 'cancelled'),\n",
       " (10, 'Never-Ending Call for Proposals', '9999-12-31', 'The call that never ends!', 'Chemistry', 'ongoing')]"
      ]
     },
     "execution_count": 22,
     "metadata": {},
     "output_type": "execute_result"
    }
   ],
   "source": [
    "%%sql \n",
    "SELECT * FROM CallsForProposals;\n"
   ]
  },
  {
   "cell_type": "code",
   "execution_count": 35,
   "metadata": {},
   "outputs": [
    {
     "name": "stdout",
     "output_type": "stream",
     "text": [
      " * sqlite:///council.db\n",
      "Done.\n"
     ]
    },
    {
     "data": {
      "text/html": [
       "<table>\n",
       "    <thead>\n",
       "        <tr>\n",
       "            <th>area</th>\n",
       "        </tr>\n",
       "    </thead>\n",
       "    <tbody>\n",
       "        <tr>\n",
       "            <td>Physics</td>\n",
       "        </tr>\n",
       "        <tr>\n",
       "            <td>Chemistry</td>\n",
       "        </tr>\n",
       "        <tr>\n",
       "            <td>History</td>\n",
       "        </tr>\n",
       "        <tr>\n",
       "            <td>Sociology</td>\n",
       "        </tr>\n",
       "        <tr>\n",
       "            <td>Economics</td>\n",
       "        </tr>\n",
       "    </tbody>\n",
       "</table>"
      ],
      "text/plain": [
       "[('Physics',), ('Chemistry',), ('History',), ('Sociology',), ('Economics',)]"
      ]
     },
     "execution_count": 35,
     "metadata": {},
     "output_type": "execute_result"
    }
   ],
   "source": [
    "%%sql \n",
    "SELECT DISTINCT area FROM CallsForProposals;"
   ]
  },
  {
   "cell_type": "code",
   "execution_count": 39,
   "metadata": {},
   "outputs": [
    {
     "name": "stdout",
     "output_type": "stream",
     "text": [
      " * sqlite:///council.db\n",
      "Done.\n"
     ]
    },
    {
     "data": {
      "text/html": [
       "<table>\n",
       "    <thead>\n",
       "        <tr>\n",
       "            <th>MAX (amount_requested)</th>\n",
       "        </tr>\n",
       "    </thead>\n",
       "    <tbody>\n",
       "        <tr>\n",
       "            <td>1000000</td>\n",
       "        </tr>\n",
       "    </tbody>\n",
       "</table>"
      ],
      "text/plain": [
       "[(1000000,)]"
      ]
     },
     "execution_count": 39,
     "metadata": {},
     "output_type": "execute_result"
    }
   ],
   "source": [
    "%%sql \n",
    "SELECT MAX (amount_requested) FROM GrantProposals G\n",
    "JOIN CallsForProposals C ON G.call_id = C.call_id\n",
    "WHERE C.area = 'Economics'"
   ]
  },
  {
   "cell_type": "code",
   "execution_count": 66,
   "metadata": {},
   "outputs": [
    {
     "name": "stdout",
     "output_type": "stream",
     "text": [
      " * sqlite:///council.db\n",
      "Done.\n"
     ]
    },
    {
     "data": {
      "text/html": [
       "<table>\n",
       "    <thead>\n",
       "        <tr>\n",
       "            <th>proposal_id</th>\n",
       "            <th>call_id</th>\n",
       "            <th>amount_requested</th>\n",
       "            <th>principal_investigator</th>\n",
       "            <th>application_status</th>\n",
       "            <th>award_amount</th>\n",
       "            <th>award_date</th>\n",
       "        </tr>\n",
       "    </thead>\n",
       "    <tbody>\n",
       "        <tr>\n",
       "            <td>1</td>\n",
       "            <td>10</td>\n",
       "            <td>10000</td>\n",
       "            <td>1</td>\n",
       "            <td>approved</td>\n",
       "            <td>8249</td>\n",
       "            <td>03-30-2024</td>\n",
       "        </tr>\n",
       "        <tr>\n",
       "            <td>2</td>\n",
       "            <td>10</td>\n",
       "            <td>4000</td>\n",
       "            <td>2</td>\n",
       "            <td>approved</td>\n",
       "            <td>2249</td>\n",
       "            <td>03-30-2024</td>\n",
       "        </tr>\n",
       "        <tr>\n",
       "            <td>3</td>\n",
       "            <td>9</td>\n",
       "            <td>100000</td>\n",
       "            <td>3</td>\n",
       "            <td>denied</td>\n",
       "            <td>None</td>\n",
       "            <td>None</td>\n",
       "        </tr>\n",
       "        <tr>\n",
       "            <td>4</td>\n",
       "            <td>1</td>\n",
       "            <td>10000</td>\n",
       "            <td>3</td>\n",
       "            <td>approved</td>\n",
       "            <td>8249</td>\n",
       "            <td>03-30-2024</td>\n",
       "        </tr>\n",
       "        <tr>\n",
       "            <td>5</td>\n",
       "            <td>10</td>\n",
       "            <td>9499</td>\n",
       "            <td>10</td>\n",
       "            <td>pending</td>\n",
       "            <td>None</td>\n",
       "            <td>None</td>\n",
       "        </tr>\n",
       "        <tr>\n",
       "            <td>6</td>\n",
       "            <td>9</td>\n",
       "            <td>15000</td>\n",
       "            <td>6</td>\n",
       "            <td>approved</td>\n",
       "            <td>13249</td>\n",
       "            <td>03-30-2024</td>\n",
       "        </tr>\n",
       "        <tr>\n",
       "            <td>7</td>\n",
       "            <td>6</td>\n",
       "            <td>100</td>\n",
       "            <td>6</td>\n",
       "            <td>approved</td>\n",
       "            <td>100</td>\n",
       "            <td>03-30-2024</td>\n",
       "        </tr>\n",
       "        <tr>\n",
       "            <td>8</td>\n",
       "            <td>9</td>\n",
       "            <td>6700</td>\n",
       "            <td>6</td>\n",
       "            <td>approved</td>\n",
       "            <td>4949</td>\n",
       "            <td>03-30-2024</td>\n",
       "        </tr>\n",
       "        <tr>\n",
       "            <td>9</td>\n",
       "            <td>10</td>\n",
       "            <td>84000</td>\n",
       "            <td>4</td>\n",
       "            <td>pending</td>\n",
       "            <td>None</td>\n",
       "            <td>None</td>\n",
       "        </tr>\n",
       "        <tr>\n",
       "            <td>10</td>\n",
       "            <td>9</td>\n",
       "            <td>9500</td>\n",
       "            <td>10</td>\n",
       "            <td>denied</td>\n",
       "            <td>None</td>\n",
       "            <td>None</td>\n",
       "        </tr>\n",
       "        <tr>\n",
       "            <td>11</td>\n",
       "            <td>9</td>\n",
       "            <td>1000000</td>\n",
       "            <td>1</td>\n",
       "            <td>approved</td>\n",
       "            <td>998249</td>\n",
       "            <td>03-30-2024</td>\n",
       "        </tr>\n",
       "    </tbody>\n",
       "</table>"
      ],
      "text/plain": [
       "[(1, 10, 10000, 1, 'approved', 8249, '03-30-2024'),\n",
       " (2, 10, 4000, 2, 'approved', 2249, '03-30-2024'),\n",
       " (3, 9, 100000, 3, 'denied', None, None),\n",
       " (4, 1, 10000, 3, 'approved', 8249, '03-30-2024'),\n",
       " (5, 10, 9499, 10, 'pending', None, None),\n",
       " (6, 9, 15000, 6, 'approved', 13249, '03-30-2024'),\n",
       " (7, 6, 100, 6, 'approved', 100, '03-30-2024'),\n",
       " (8, 9, 6700, 6, 'approved', 4949, '03-30-2024'),\n",
       " (9, 10, 84000, 4, 'pending', None, None),\n",
       " (10, 9, 9500, 10, 'denied', None, None),\n",
       " (11, 9, 1000000, 1, 'approved', 998249, '03-30-2024')]"
      ]
     },
     "execution_count": 66,
     "metadata": {},
     "output_type": "execute_result"
    }
   ],
   "source": [
    "%%sql \n",
    "SELECT * FROM GrantProposals;"
   ]
  },
  {
   "cell_type": "code",
   "execution_count": 65,
   "metadata": {},
   "outputs": [
    {
     "name": "stdout",
     "output_type": "stream",
     "text": [
      " * sqlite:///council.db\n",
      "6 rows affected.\n"
     ]
    },
    {
     "data": {
      "text/plain": [
       "[]"
      ]
     },
     "execution_count": 65,
     "metadata": {},
     "output_type": "execute_result"
    }
   ],
   "source": [
    "%%sql\n",
    "UPDATE GrantProposals SET award_amount = (award_amount - 1320) WHERE award_amount > 100"
   ]
  },
  {
   "cell_type": "code",
   "execution_count": 45,
   "metadata": {},
   "outputs": [
    {
     "name": "stdout",
     "output_type": "stream",
     "text": [
      " * sqlite:///council.db\n",
      "Done.\n"
     ]
    },
    {
     "data": {
      "text/html": [
       "<table>\n",
       "    <thead>\n",
       "        <tr>\n",
       "            <th>award_amount</th>\n",
       "            <th>area</th>\n",
       "        </tr>\n",
       "    </thead>\n",
       "    <tbody>\n",
       "        <tr>\n",
       "            <td>10000</td>\n",
       "            <td>Chemistry</td>\n",
       "        </tr>\n",
       "        <tr>\n",
       "            <td>4000</td>\n",
       "            <td>Chemistry</td>\n",
       "        </tr>\n",
       "        <tr>\n",
       "            <td>None</td>\n",
       "            <td>Economics</td>\n",
       "        </tr>\n",
       "        <tr>\n",
       "            <td>10000</td>\n",
       "            <td>Physics</td>\n",
       "        </tr>\n",
       "        <tr>\n",
       "            <td>None</td>\n",
       "            <td>Chemistry</td>\n",
       "        </tr>\n",
       "        <tr>\n",
       "            <td>15000</td>\n",
       "            <td>Economics</td>\n",
       "        </tr>\n",
       "        <tr>\n",
       "            <td>100</td>\n",
       "            <td>Sociology</td>\n",
       "        </tr>\n",
       "        <tr>\n",
       "            <td>6700</td>\n",
       "            <td>Economics</td>\n",
       "        </tr>\n",
       "        <tr>\n",
       "            <td>None</td>\n",
       "            <td>Chemistry</td>\n",
       "        </tr>\n",
       "        <tr>\n",
       "            <td>None</td>\n",
       "            <td>Economics</td>\n",
       "        </tr>\n",
       "        <tr>\n",
       "            <td>1000000</td>\n",
       "            <td>Economics</td>\n",
       "        </tr>\n",
       "    </tbody>\n",
       "</table>"
      ],
      "text/plain": [
       "[(10000, 'Chemistry'),\n",
       " (4000, 'Chemistry'),\n",
       " (None, 'Economics'),\n",
       " (10000, 'Physics'),\n",
       " (None, 'Chemistry'),\n",
       " (15000, 'Economics'),\n",
       " (100, 'Sociology'),\n",
       " (6700, 'Economics'),\n",
       " (None, 'Chemistry'),\n",
       " (None, 'Economics'),\n",
       " (1000000, 'Economics')]"
      ]
     },
     "execution_count": 45,
     "metadata": {},
     "output_type": "execute_result"
    }
   ],
   "source": [
    "%%sql \n",
    "SELECT G.award_amount, C.area FROM GrantProposals G\n",
    "JOIN CallsForProposals C ON C.call_id = G.call_id"
   ]
  },
  {
   "cell_type": "code",
   "execution_count": 21,
   "metadata": {},
   "outputs": [
    {
     "name": "stdout",
     "output_type": "stream",
     "text": [
      " * sqlite:///council.db\n",
      "1 rows affected.\n"
     ]
    },
    {
     "data": {
      "text/plain": [
       "[]"
      ]
     },
     "execution_count": 21,
     "metadata": {},
     "output_type": "execute_result"
    }
   ],
   "source": [
    "%%sql \n",
    "UPDATE CallsForProposals SET app_deadline = '2024-0-24' \n",
    "WHERE call_id = 6;"
   ]
  },
  {
   "cell_type": "code",
   "execution_count": 69,
   "metadata": {},
   "outputs": [
    {
     "name": "stdout",
     "output_type": "stream",
     "text": [
      " * sqlite:///council.db\n",
      "Done.\n"
     ]
    },
    {
     "data": {
      "text/html": [
       "<table>\n",
       "    <thead>\n",
       "        <tr>\n",
       "            <th>r_id</th>\n",
       "            <th>conflicts_of_interest</th>\n",
       "        </tr>\n",
       "    </thead>\n",
       "    <tbody>\n",
       "        <tr>\n",
       "            <td>1</td>\n",
       "            <td>10</td>\n",
       "        </tr>\n",
       "        <tr>\n",
       "            <td>1</td>\n",
       "            <td>9</td>\n",
       "        </tr>\n",
       "        <tr>\n",
       "            <td>1</td>\n",
       "            <td>8</td>\n",
       "        </tr>\n",
       "        <tr>\n",
       "            <td>3</td>\n",
       "            <td>1</td>\n",
       "        </tr>\n",
       "        <tr>\n",
       "            <td>1</td>\n",
       "            <td>3</td>\n",
       "        </tr>\n",
       "        <tr>\n",
       "            <td>10</td>\n",
       "            <td>1</td>\n",
       "        </tr>\n",
       "        <tr>\n",
       "            <td>4</td>\n",
       "            <td>5</td>\n",
       "        </tr>\n",
       "        <tr>\n",
       "            <td>5</td>\n",
       "            <td>4</td>\n",
       "        </tr>\n",
       "        <tr>\n",
       "            <td>8</td>\n",
       "            <td>5</td>\n",
       "        </tr>\n",
       "        <tr>\n",
       "            <td>9</td>\n",
       "            <td>4</td>\n",
       "        </tr>\n",
       "    </tbody>\n",
       "</table>"
      ],
      "text/plain": [
       "[(1, 10),\n",
       " (1, 9),\n",
       " (1, 8),\n",
       " (3, 1),\n",
       " (1, 3),\n",
       " (10, 1),\n",
       " (4, 5),\n",
       " (5, 4),\n",
       " (8, 5),\n",
       " (9, 4)]"
      ]
     },
     "execution_count": 69,
     "metadata": {},
     "output_type": "execute_result"
    }
   ],
   "source": [
    "%%sql \n",
    "SELECT * FROM Reviewers"
   ]
  },
  {
   "cell_type": "code",
   "execution_count": 67,
   "metadata": {},
   "outputs": [
    {
     "name": "stdout",
     "output_type": "stream",
     "text": [
      " * sqlite:///council.db\n",
      "Done.\n"
     ]
    },
    {
     "data": {
      "text/html": [
       "<table>\n",
       "    <thead>\n",
       "        <tr>\n",
       "            <th>avg_discrepancy</th>\n",
       "        </tr>\n",
       "    </thead>\n",
       "    <tbody>\n",
       "        <tr>\n",
       "            <td>1751.0</td>\n",
       "        </tr>\n",
       "    </tbody>\n",
       "</table>"
      ],
      "text/plain": [
       "[(1751.0,)]"
      ]
     },
     "execution_count": 67,
     "metadata": {},
     "output_type": "execute_result"
    }
   ],
   "source": [
    "%%sql \n",
    "SELECT AVG(ABS(gp.amount_requested - gp.award_amount)) AS avg_discrepancy\n",
    "FROM GrantProposals gp\n",
    "JOIN CallsForProposals cp ON gp.call_id = cp.call_id\n",
    "WHERE cp.area = 'Economics'\n"
   ]
  }
 ],
 "metadata": {
  "kernelspec": {
   "display_name": "base",
   "language": "python",
   "name": "python3"
  },
  "language_info": {
   "codemirror_mode": {
    "name": "ipython",
    "version": 3
   },
   "file_extension": ".py",
   "mimetype": "text/x-python",
   "name": "python",
   "nbconvert_exporter": "python",
   "pygments_lexer": "ipython3",
   "version": "3.11.5"
  }
 },
 "nbformat": 4,
 "nbformat_minor": 2
}
